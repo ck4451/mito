{
 "cells": [
  {
   "cell_type": "code",
   "execution_count": 1,
   "id": "3504b366-2e3f-42f2-9ce4-265b25858e25",
   "metadata": {},
   "outputs": [
    {
     "data": {
      "application/vnd.jupyter.widget-view+json": {
       "model_id": "04850c51a5484711abb4a820d1056c36",
       "version_major": 2,
       "version_minor": 0
      },
      "text/plain": [
       "MitoWidget(analysis_data_json='{\"analysisName\": \"id-xgtvvkelmx\", \"analysisToReplay\": null, \"code\": [], \"stepSu…"
      ]
     },
     "execution_count": 1,
     "metadata": {},
     "output_type": "execute_result"
    }
   ],
   "source": [
    "mitosheet.sheet(analysis_to_replay=\"id-xgtvvkelmx\")"
   ]
  },
  {
   "cell_type": "code",
   "execution_count": null,
   "id": "f86c72e5-b448-46e4-aeda-1f5aa59a77a5",
   "metadata": {},
   "outputs": [],
   "source": [
    "from mitosheet import *; register_analysis(\"id-xgtvvkelmx\");\n",
    "    \n",
    "# Imported forestfires.csv\n",
    "import pandas as pd\n",
    "forestfires = pd.read_csv(r'/Users/aarondiamond-reivich/Documents/saga/monorepo/mitosheet/datasets/small-datasets/forestfires.csv')\n",
    "\n",
    "# Added column new-column-ai3a\n",
    "forestfires.insert(2, 'new-column-ai3a', 0)\n"
   ]
  }
 ],
 "metadata": {
  "kernelspec": {
   "display_name": "Python 3 (ipykernel)",
   "language": "python",
   "name": "python3"
  },
  "language_info": {
   "codemirror_mode": {
    "name": "ipython",
    "version": 3
   },
   "file_extension": ".py",
   "mimetype": "text/x-python",
   "name": "python",
   "nbconvert_exporter": "python",
   "pygments_lexer": "ipython3",
   "version": "3.10.0"
  }
 },
 "nbformat": 4,
 "nbformat_minor": 5
}
