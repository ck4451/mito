{
 "cells": [
  {
   "cell_type": "code",
   "execution_count": 300,
   "id": "3ff200b1-dca7-4f30-886b-e9d756f0cf4f",
   "metadata": {},
   "outputs": [
    {
     "data": {
      "application/vnd.jupyter.widget-view+json": {
       "model_id": "1601ebee0d3e417c8b15ba44ae468c07",
       "version_major": 2,
       "version_minor": 0
      },
      "text/plain": [
       "MitoWidget(analysis_data_json='{\"analysisName\": \"id-txpmsrwkgv\", \"analysisToReplay\": {\"analysisName\": \"id-sgwu…"
      ]
     },
     "execution_count": 300,
     "metadata": {},
     "output_type": "execute_result"
    }
   ],
   "source": [
    "import pandas as pd \n",
    "df = pd.DataFrame({'A': ['Aaron', None, 3], 'B': [1, 2, None], 'C': [1, 2, 3]})\n",
    "\n",
    "mitosheet.sheet(df, analysis_to_replay=\"id-sgwuxfhykx\")"
   ]
  },
  {
   "cell_type": "code",
   "execution_count": null,
   "id": "56f1d0c3-fa0e-490c-b08f-db812fc5f0d0",
   "metadata": {},
   "outputs": [],
   "source": []
  },
  {
   "cell_type": "code",
   "execution_count": 301,
   "id": "ba5f9a55-9587-4fb6-b6c4-37513c640746",
   "metadata": {},
   "outputs": [
    {
     "data": {
      "text/html": [
       "<div><div id=be753db7-348f-40da-b077-0cba49f30faf style=\"display:none; background-color:#9D6CFF; color:white; width:200px; height:30px; padding-left:5px; border-radius:4px; flex-direction:row; justify-content:space-around; align-items:center;\" onmouseover=\"this.style.backgroundColor='#BA9BF8'\" onmouseout=\"this.style.backgroundColor='#9D6CFF'\" onclick=\"window.commands?.execute('create-mitosheet-from-dataframe-output');\">See Full Dataframe in Mito</div> <script> if (window.commands?.hasCommand('create-mitosheet-from-dataframe-output')) document.getElementById('be753db7-348f-40da-b077-0cba49f30faf').style.display = 'flex' </script> <table border=\"1\" class=\"dataframe\">\n",
       "  <thead>\n",
       "    <tr style=\"text-align: right;\">\n",
       "      <th></th>\n",
       "      <th>A</th>\n",
       "      <th>B</th>\n",
       "      <th>C</th>\n",
       "    </tr>\n",
       "  </thead>\n",
       "  <tbody>\n",
       "    <tr>\n",
       "      <th>0</th>\n",
       "      <td>False</td>\n",
       "      <td>False</td>\n",
       "      <td>1</td>\n",
       "    </tr>\n",
       "    <tr>\n",
       "      <th>1</th>\n",
       "      <td>True</td>\n",
       "      <td>False</td>\n",
       "      <td>2</td>\n",
       "    </tr>\n",
       "    <tr>\n",
       "      <th>2</th>\n",
       "      <td>False</td>\n",
       "      <td>True</td>\n",
       "      <td>3</td>\n",
       "    </tr>\n",
       "  </tbody>\n",
       "</table></div>"
      ],
      "text/plain": [
       "       A      B  C\n",
       "0  False  False  1\n",
       "1   True  False  2\n",
       "2  False   True  3"
      ]
     },
     "execution_count": 301,
     "metadata": {},
     "output_type": "execute_result"
    }
   ],
   "source": [
    "df = df[['A', 'B']].isnull()\n",
    "df"
   ]
  },
  {
   "cell_type": "code",
   "execution_count": 268,
   "id": "215501bf-f9c6-4fbc-a182-38a8a8dda591",
   "metadata": {},
   "outputs": [
    {
     "data": {
      "application/vnd.jupyter.widget-view+json": {
       "model_id": "bced8c25f4c84d808de22e9630e848e3",
       "version_major": 2,
       "version_minor": 0
      },
      "text/plain": [
       "MitoWidget(analysis_data_json='{\"analysisName\": \"id-wdlerthzdd\", \"analysisToReplay\": null, \"code\": [], \"stepSu…"
      ]
     },
     "execution_count": 268,
     "metadata": {},
     "output_type": "execute_result"
    }
   ],
   "source": [
    "mitosheet.sheet(df, analysis_to_replay=\"id-wdlerthzdd\")"
   ]
  },
  {
   "cell_type": "code",
   "execution_count": null,
   "id": "4b324cc1-6556-4356-a485-34e8f133c066",
   "metadata": {},
   "outputs": [],
   "source": []
  },
  {
   "cell_type": "code",
   "execution_count": null,
   "id": "9d020398-5291-4a04-8303-fe19e3d6c002",
   "metadata": {},
   "outputs": [],
   "source": []
  },
  {
   "cell_type": "code",
   "execution_count": 9,
   "id": "3945d23c-5e92-4fe5-ad82-ebf0d6e0c7df",
   "metadata": {},
   "outputs": [
    {
     "data": {
      "application/vnd.jupyter.widget-view+json": {
       "model_id": "4891903f44af4fd5910080624afd052d",
       "version_major": 2,
       "version_minor": 0
      },
      "text/plain": [
       "MitoWidget(analysis_data_json='{\"analysisName\": \"id-bgcdasanwa\", \"analysisToReplay\": {\"analysisName\": \"id-gxio…"
      ]
     },
     "execution_count": 9,
     "metadata": {},
     "output_type": "execute_result"
    }
   ],
   "source": [
    "mitosheet.sheet(df, analysis_to_replay=\"id-gxioqkojeu\")"
   ]
  },
  {
   "cell_type": "code",
   "execution_count": 283,
   "id": "99a14c95-f836-4d09-bd18-5c15e9ab591d",
   "metadata": {},
   "outputs": [],
   "source": [
    "from mitosheet import *; register_analysis(\"id-gxioqkojeu\");\n",
    "    \n",
    "# Imported Untitled Report(7).csv\n",
    "import pandas as pd\n",
    "Untitled_Report_7 = pd.read_csv(r'/Users/aarondiamond-reivich/Downloads/Untitled Report(7).csv')\n",
    "\n",
    "# Imported ParentData.csv\n",
    "import pandas as pd\n",
    "ParentData = pd.read_csv(r'/Users/aarondiamond-reivich/Downloads/ParentData.csv')\n",
    "\n",
    "# Changed A to dtype datetime\n",
    "import pandas as pd\n",
    "df['A'] = pd.to_datetime(df['A'], infer_datetime_format=True, errors='coerce')\n",
    "\n",
    "# Pivoted into df\n",
    "tmp_df = df[['A']]\n",
    "pivot_table = tmp_df.pivot_table(\n",
    "    index=['A'],\n",
    "    values=['A'],\n",
    "    aggfunc={'A': ['count']}\n",
    ")\n",
    "pivot_table.set_axis([flatten_column_header(col) for col in pivot_table.keys()], axis=1, inplace=True)\n",
    "df_pivot = pivot_table.reset_index()\n",
    "\n",
    "# Added column new-column-k9ve\n",
    "df.insert(1, 'new-column-k9ve', 0)\n",
    "\n",
    "# Set formula of new-column-k9ve\n",
    "df['new-column-k9ve'] = df['A']\n",
    "\n",
    "# Renamed columns B\n",
    "df.rename(columns={'new-column-k9ve': 'B'}, inplace=True)\n",
    "\n",
    "# Changed A to dtype float\n",
    "df = df[['A', 'B']].astype('int').astype('float') / 10**9\n"
   ]
  },
  {
   "cell_type": "code",
   "execution_count": 284,
   "id": "754e482e-b15f-432a-9d45-5a9e5fa79e1a",
   "metadata": {},
   "outputs": [
    {
     "data": {
      "text/html": [
       "<div><div id=d90578ed-1705-4760-bc9d-f55e4f3d0f5e style=\"display:none; background-color:#9D6CFF; color:white; width:200px; height:30px; padding-left:5px; border-radius:4px; flex-direction:row; justify-content:space-around; align-items:center;\" onmouseover=\"this.style.backgroundColor='#BA9BF8'\" onmouseout=\"this.style.backgroundColor='#9D6CFF'\" onclick=\"window.commands?.execute('create-mitosheet-from-dataframe-output');\">See Full Dataframe in Mito</div> <script> if (window.commands?.hasCommand('create-mitosheet-from-dataframe-output')) document.getElementById('d90578ed-1705-4760-bc9d-f55e4f3d0f5e').style.display = 'flex' </script> <table border=\"1\" class=\"dataframe\">\n",
       "  <thead>\n",
       "    <tr style=\"text-align: right;\">\n",
       "      <th></th>\n",
       "      <th>A</th>\n",
       "      <th>B</th>\n",
       "      <th>B</th>\n",
       "      <th>B</th>\n",
       "    </tr>\n",
       "  </thead>\n",
       "  <tbody>\n",
       "    <tr>\n",
       "      <th>0</th>\n",
       "      <td>-9.223372</td>\n",
       "      <td>-9.223372</td>\n",
       "      <td>-9.223372</td>\n",
       "      <td>0.000000e+00</td>\n",
       "    </tr>\n",
       "    <tr>\n",
       "      <th>1</th>\n",
       "      <td>-9.223372</td>\n",
       "      <td>-9.223372</td>\n",
       "      <td>-9.223372</td>\n",
       "      <td>0.000000e+00</td>\n",
       "    </tr>\n",
       "    <tr>\n",
       "      <th>2</th>\n",
       "      <td>-9.223372</td>\n",
       "      <td>-9.223372</td>\n",
       "      <td>-9.223372</td>\n",
       "      <td>1.000000e-09</td>\n",
       "    </tr>\n",
       "  </tbody>\n",
       "</table></div>"
      ],
      "text/plain": [
       "          A         B         B             B\n",
       "0 -9.223372 -9.223372 -9.223372  0.000000e+00\n",
       "1 -9.223372 -9.223372 -9.223372  0.000000e+00\n",
       "2 -9.223372 -9.223372 -9.223372  1.000000e-09"
      ]
     },
     "execution_count": 284,
     "metadata": {},
     "output_type": "execute_result"
    }
   ],
   "source": [
    "df"
   ]
  },
  {
   "cell_type": "code",
   "execution_count": 282,
   "id": "808e0c61-2ff6-4dfb-99d8-8079b4f3f90e",
   "metadata": {},
   "outputs": [
    {
     "ename": "ValueError",
     "evalue": "Expected a 1D array, got an array with shape (3, 3)",
     "output_type": "error",
     "traceback": [
      "\u001b[0;31m---------------------------------------------------------------------------\u001b[0m",
      "\u001b[0;31mTypeError\u001b[0m                                 Traceback (most recent call last)",
      "File \u001b[0;32m~/Documents/saga/monorepo/mitosheet/venv/lib/python3.10/site-packages/pandas/_libs/index.pyx:186\u001b[0m, in \u001b[0;36mpandas._libs.index.IndexEngine._get_loc_duplicates\u001b[0;34m()\u001b[0m\n",
      "\u001b[0;31mTypeError\u001b[0m: only integer scalar arrays can be converted to a scalar index",
      "\nDuring handling of the above exception, another exception occurred:\n",
      "\u001b[0;31mKeyError\u001b[0m                                  Traceback (most recent call last)",
      "File \u001b[0;32m~/Documents/saga/monorepo/mitosheet/venv/lib/python3.10/site-packages/pandas/core/indexes/base.py:3629\u001b[0m, in \u001b[0;36mIndex.get_loc\u001b[0;34m(self, key, method, tolerance)\u001b[0m\n\u001b[1;32m   3628\u001b[0m \u001b[38;5;28;01mtry\u001b[39;00m:\n\u001b[0;32m-> 3629\u001b[0m     \u001b[38;5;28;01mreturn\u001b[39;00m \u001b[38;5;28;43mself\u001b[39;49m\u001b[38;5;241;43m.\u001b[39;49m\u001b[43m_engine\u001b[49m\u001b[38;5;241;43m.\u001b[39;49m\u001b[43mget_loc\u001b[49m\u001b[43m(\u001b[49m\u001b[43mcasted_key\u001b[49m\u001b[43m)\u001b[49m\n\u001b[1;32m   3630\u001b[0m \u001b[38;5;28;01mexcept\u001b[39;00m \u001b[38;5;167;01mKeyError\u001b[39;00m \u001b[38;5;28;01mas\u001b[39;00m err:\n",
      "File \u001b[0;32m~/Documents/saga/monorepo/mitosheet/venv/lib/python3.10/site-packages/pandas/_libs/index.pyx:136\u001b[0m, in \u001b[0;36mpandas._libs.index.IndexEngine.get_loc\u001b[0;34m()\u001b[0m\n",
      "File \u001b[0;32m~/Documents/saga/monorepo/mitosheet/venv/lib/python3.10/site-packages/pandas/_libs/index.pyx:160\u001b[0m, in \u001b[0;36mpandas._libs.index.IndexEngine.get_loc\u001b[0;34m()\u001b[0m\n",
      "File \u001b[0;32m~/Documents/saga/monorepo/mitosheet/venv/lib/python3.10/site-packages/pandas/_libs/index.pyx:191\u001b[0m, in \u001b[0;36mpandas._libs.index.IndexEngine._get_loc_duplicates\u001b[0;34m()\u001b[0m\n",
      "\u001b[0;31mKeyError\u001b[0m: ('A', 'B')",
      "\nThe above exception was the direct cause of the following exception:\n",
      "\u001b[0;31mKeyError\u001b[0m                                  Traceback (most recent call last)",
      "File \u001b[0;32m~/Documents/saga/monorepo/mitosheet/venv/lib/python3.10/site-packages/pandas/core/frame.py:3799\u001b[0m, in \u001b[0;36mDataFrame._set_item_mgr\u001b[0;34m(self, key, value)\u001b[0m\n\u001b[1;32m   3798\u001b[0m \u001b[38;5;28;01mtry\u001b[39;00m:\n\u001b[0;32m-> 3799\u001b[0m     loc \u001b[38;5;241m=\u001b[39m \u001b[38;5;28;43mself\u001b[39;49m\u001b[38;5;241;43m.\u001b[39;49m\u001b[43m_info_axis\u001b[49m\u001b[38;5;241;43m.\u001b[39;49m\u001b[43mget_loc\u001b[49m\u001b[43m(\u001b[49m\u001b[43mkey\u001b[49m\u001b[43m)\u001b[49m\n\u001b[1;32m   3800\u001b[0m \u001b[38;5;28;01mexcept\u001b[39;00m \u001b[38;5;167;01mKeyError\u001b[39;00m:\n\u001b[1;32m   3801\u001b[0m     \u001b[38;5;66;03m# This item wasn't present, just insert at end\u001b[39;00m\n",
      "File \u001b[0;32m~/Documents/saga/monorepo/mitosheet/venv/lib/python3.10/site-packages/pandas/core/indexes/base.py:3631\u001b[0m, in \u001b[0;36mIndex.get_loc\u001b[0;34m(self, key, method, tolerance)\u001b[0m\n\u001b[1;32m   3630\u001b[0m \u001b[38;5;28;01mexcept\u001b[39;00m \u001b[38;5;167;01mKeyError\u001b[39;00m \u001b[38;5;28;01mas\u001b[39;00m err:\n\u001b[0;32m-> 3631\u001b[0m     \u001b[38;5;28;01mraise\u001b[39;00m \u001b[38;5;167;01mKeyError\u001b[39;00m(key) \u001b[38;5;28;01mfrom\u001b[39;00m \u001b[38;5;21;01merr\u001b[39;00m\n\u001b[1;32m   3632\u001b[0m \u001b[38;5;28;01mexcept\u001b[39;00m \u001b[38;5;167;01mTypeError\u001b[39;00m:\n\u001b[1;32m   3633\u001b[0m     \u001b[38;5;66;03m# If we have a listlike key, _check_indexing_error will raise\u001b[39;00m\n\u001b[1;32m   3634\u001b[0m     \u001b[38;5;66;03m#  InvalidIndexError. Otherwise we fall through and re-raise\u001b[39;00m\n\u001b[1;32m   3635\u001b[0m     \u001b[38;5;66;03m#  the TypeError.\u001b[39;00m\n",
      "\u001b[0;31mKeyError\u001b[0m: ('A', 'B')",
      "\nDuring handling of the above exception, another exception occurred:\n",
      "\u001b[0;31mValueError\u001b[0m                                Traceback (most recent call last)",
      "Input \u001b[0;32mIn [282]\u001b[0m, in \u001b[0;36m<cell line: 1>\u001b[0;34m()\u001b[0m\n\u001b[0;32m----> 1\u001b[0m \u001b[43mdf\u001b[49m\u001b[43m[\u001b[49m\u001b[38;5;124;43m'\u001b[39;49m\u001b[38;5;124;43mA\u001b[39;49m\u001b[38;5;124;43m'\u001b[39;49m\u001b[43m,\u001b[49m\u001b[43m \u001b[49m\u001b[38;5;124;43m'\u001b[39;49m\u001b[38;5;124;43mB\u001b[39;49m\u001b[38;5;124;43m'\u001b[39;49m\u001b[43m]\u001b[49m \u001b[38;5;241m=\u001b[39m df[[\u001b[38;5;124m'\u001b[39m\u001b[38;5;124mA\u001b[39m\u001b[38;5;124m'\u001b[39m, \u001b[38;5;124m'\u001b[39m\u001b[38;5;124mB\u001b[39m\u001b[38;5;124m'\u001b[39m]]\u001b[38;5;241m.\u001b[39mastype(\u001b[38;5;124m'\u001b[39m\u001b[38;5;124mint\u001b[39m\u001b[38;5;124m'\u001b[39m)\u001b[38;5;241m.\u001b[39mastype(\u001b[38;5;124m'\u001b[39m\u001b[38;5;124mfloat\u001b[39m\u001b[38;5;124m'\u001b[39m)\u001b[38;5;241m.\u001b[39mdiv(\u001b[38;5;241m10\u001b[39m\u001b[38;5;241m*\u001b[39m\u001b[38;5;241m*\u001b[39m\u001b[38;5;241m9\u001b[39m)\n",
      "File \u001b[0;32m~/Documents/saga/monorepo/mitosheet/venv/lib/python3.10/site-packages/pandas/core/frame.py:3645\u001b[0m, in \u001b[0;36mDataFrame.__setitem__\u001b[0;34m(self, key, value)\u001b[0m\n\u001b[1;32m   3643\u001b[0m     \u001b[38;5;28mself\u001b[39m\u001b[38;5;241m.\u001b[39m_setitem_array(key, value)\n\u001b[1;32m   3644\u001b[0m \u001b[38;5;28;01melif\u001b[39;00m \u001b[38;5;28misinstance\u001b[39m(value, DataFrame):\n\u001b[0;32m-> 3645\u001b[0m     \u001b[38;5;28;43mself\u001b[39;49m\u001b[38;5;241;43m.\u001b[39;49m\u001b[43m_set_item_frame_value\u001b[49m\u001b[43m(\u001b[49m\u001b[43mkey\u001b[49m\u001b[43m,\u001b[49m\u001b[43m \u001b[49m\u001b[43mvalue\u001b[49m\u001b[43m)\u001b[49m\n\u001b[1;32m   3646\u001b[0m \u001b[38;5;28;01melif\u001b[39;00m (\n\u001b[1;32m   3647\u001b[0m     is_list_like(value)\n\u001b[1;32m   3648\u001b[0m     \u001b[38;5;129;01mand\u001b[39;00m \u001b[38;5;129;01mnot\u001b[39;00m \u001b[38;5;28mself\u001b[39m\u001b[38;5;241m.\u001b[39mcolumns\u001b[38;5;241m.\u001b[39mis_unique\n\u001b[1;32m   3649\u001b[0m     \u001b[38;5;129;01mand\u001b[39;00m \u001b[38;5;241m1\u001b[39m \u001b[38;5;241m<\u001b[39m \u001b[38;5;28mlen\u001b[39m(\u001b[38;5;28mself\u001b[39m\u001b[38;5;241m.\u001b[39mcolumns\u001b[38;5;241m.\u001b[39mget_indexer_for([key])) \u001b[38;5;241m==\u001b[39m \u001b[38;5;28mlen\u001b[39m(value)\n\u001b[1;32m   3650\u001b[0m ):\n\u001b[1;32m   3651\u001b[0m     \u001b[38;5;66;03m# Column to set is duplicated\u001b[39;00m\n\u001b[1;32m   3652\u001b[0m     \u001b[38;5;28mself\u001b[39m\u001b[38;5;241m.\u001b[39m_setitem_array([key], value)\n",
      "File \u001b[0;32m~/Documents/saga/monorepo/mitosheet/venv/lib/python3.10/site-packages/pandas/core/frame.py:3788\u001b[0m, in \u001b[0;36mDataFrame._set_item_frame_value\u001b[0;34m(self, key, value)\u001b[0m\n\u001b[1;32m   3786\u001b[0m \u001b[38;5;66;03m# now align rows\u001b[39;00m\n\u001b[1;32m   3787\u001b[0m arraylike \u001b[38;5;241m=\u001b[39m _reindex_for_setitem(value, \u001b[38;5;28mself\u001b[39m\u001b[38;5;241m.\u001b[39mindex)\n\u001b[0;32m-> 3788\u001b[0m \u001b[38;5;28;43mself\u001b[39;49m\u001b[38;5;241;43m.\u001b[39;49m\u001b[43m_set_item_mgr\u001b[49m\u001b[43m(\u001b[49m\u001b[43mkey\u001b[49m\u001b[43m,\u001b[49m\u001b[43m \u001b[49m\u001b[43marraylike\u001b[49m\u001b[43m)\u001b[49m\n",
      "File \u001b[0;32m~/Documents/saga/monorepo/mitosheet/venv/lib/python3.10/site-packages/pandas/core/frame.py:3802\u001b[0m, in \u001b[0;36mDataFrame._set_item_mgr\u001b[0;34m(self, key, value)\u001b[0m\n\u001b[1;32m   3799\u001b[0m     loc \u001b[38;5;241m=\u001b[39m \u001b[38;5;28mself\u001b[39m\u001b[38;5;241m.\u001b[39m_info_axis\u001b[38;5;241m.\u001b[39mget_loc(key)\n\u001b[1;32m   3800\u001b[0m \u001b[38;5;28;01mexcept\u001b[39;00m \u001b[38;5;167;01mKeyError\u001b[39;00m:\n\u001b[1;32m   3801\u001b[0m     \u001b[38;5;66;03m# This item wasn't present, just insert at end\u001b[39;00m\n\u001b[0;32m-> 3802\u001b[0m     \u001b[38;5;28;43mself\u001b[39;49m\u001b[38;5;241;43m.\u001b[39;49m\u001b[43m_mgr\u001b[49m\u001b[38;5;241;43m.\u001b[39;49m\u001b[43minsert\u001b[49m\u001b[43m(\u001b[49m\u001b[38;5;28;43mlen\u001b[39;49m\u001b[43m(\u001b[49m\u001b[38;5;28;43mself\u001b[39;49m\u001b[38;5;241;43m.\u001b[39;49m\u001b[43m_info_axis\u001b[49m\u001b[43m)\u001b[49m\u001b[43m,\u001b[49m\u001b[43m \u001b[49m\u001b[43mkey\u001b[49m\u001b[43m,\u001b[49m\u001b[43m \u001b[49m\u001b[43mvalue\u001b[49m\u001b[43m)\u001b[49m\n\u001b[1;32m   3803\u001b[0m \u001b[38;5;28;01melse\u001b[39;00m:\n\u001b[1;32m   3804\u001b[0m     \u001b[38;5;28mself\u001b[39m\u001b[38;5;241m.\u001b[39m_iset_item_mgr(loc, value)\n",
      "File \u001b[0;32m~/Documents/saga/monorepo/mitosheet/venv/lib/python3.10/site-packages/pandas/core/internals/managers.py:1245\u001b[0m, in \u001b[0;36mBlockManager.insert\u001b[0;34m(self, loc, item, value)\u001b[0m\n\u001b[1;32m   1243\u001b[0m     value \u001b[38;5;241m=\u001b[39m value\u001b[38;5;241m.\u001b[39mT\n\u001b[1;32m   1244\u001b[0m     \u001b[38;5;28;01mif\u001b[39;00m \u001b[38;5;28mlen\u001b[39m(value) \u001b[38;5;241m>\u001b[39m \u001b[38;5;241m1\u001b[39m:\n\u001b[0;32m-> 1245\u001b[0m         \u001b[38;5;28;01mraise\u001b[39;00m \u001b[38;5;167;01mValueError\u001b[39;00m(\n\u001b[1;32m   1246\u001b[0m             \u001b[38;5;124mf\u001b[39m\u001b[38;5;124m\"\u001b[39m\u001b[38;5;124mExpected a 1D array, got an array with shape \u001b[39m\u001b[38;5;132;01m{\u001b[39;00mvalue\u001b[38;5;241m.\u001b[39mT\u001b[38;5;241m.\u001b[39mshape\u001b[38;5;132;01m}\u001b[39;00m\u001b[38;5;124m\"\u001b[39m\n\u001b[1;32m   1247\u001b[0m         )\n\u001b[1;32m   1248\u001b[0m \u001b[38;5;28;01melse\u001b[39;00m:\n\u001b[1;32m   1249\u001b[0m     value \u001b[38;5;241m=\u001b[39m ensure_block_shape(value, ndim\u001b[38;5;241m=\u001b[39m\u001b[38;5;28mself\u001b[39m\u001b[38;5;241m.\u001b[39mndim)\n",
      "\u001b[0;31mValueError\u001b[0m: Expected a 1D array, got an array with shape (3, 3)"
     ]
    }
   ],
   "source": [
    "df df[['A', 'B']].astype('int').astype('float')  / 10**9"
   ]
  },
  {
   "cell_type": "code",
   "execution_count": 6,
   "id": "a65c83ff-cf9a-4b34-9240-b715d2817503",
   "metadata": {},
   "outputs": [
    {
     "data": {
      "text/plain": [
       "0    Sunday\n",
       "1    Friday\n",
       "Name: A, dtype: object"
      ]
     },
     "execution_count": 6,
     "metadata": {},
     "output_type": "execute_result"
    }
   ],
   "source": [
    "df['A'].dt.day_name()\n",
    "\n"
   ]
  },
  {
   "cell_type": "code",
   "execution_count": 143,
   "id": "36521a7e-bb26-4ec3-a255-2d8e38871784",
   "metadata": {},
   "outputs": [],
   "source": [
    "df = pd.DataFrame({'A': ['1/4/25','11/2/22','9/3/22','7/2/2020','1/2/22 00:05:22', '12/2/22', '1/2/22 10:12:13', '5/2/22', '1/2/22', '3/4/24'], 'B': [9,2,2,2,2,2,9,8,9,10]})\n",
    "df['A'] = pd.to_datetime(df['A'], infer_datetime_format=True, errors='coerce')"
   ]
  },
  {
   "cell_type": "code",
   "execution_count": null,
   "id": "1d7885bb-489a-4343-9431-6e5ad65056f8",
   "metadata": {},
   "outputs": [],
   "source": []
  },
  {
   "cell_type": "code",
   "execution_count": 131,
   "id": "588083a6-0dd4-4a0a-8eb8-c63bfc957f83",
   "metadata": {},
   "outputs": [
    {
     "data": {
      "text/html": [
       "<div><div id=a5d0074a-6c49-449f-bcdf-16029b690304 style=\"display:none; background-color:#9D6CFF; color:white; width:200px; height:30px; padding-left:5px; border-radius:4px; flex-direction:row; justify-content:space-around; align-items:center;\" onmouseover=\"this.style.backgroundColor='#BA9BF8'\" onmouseout=\"this.style.backgroundColor='#9D6CFF'\" onclick=\"window.commands?.execute('create-mitosheet-from-dataframe-output');\">See Full Dataframe in Mito</div> <script> if (window.commands?.hasCommand('create-mitosheet-from-dataframe-output')) document.getElementById('a5d0074a-6c49-449f-bcdf-16029b690304').style.display = 'flex' </script> <table border=\"1\" class=\"dataframe\">\n",
       "  <thead>\n",
       "    <tr style=\"text-align: right;\">\n",
       "      <th></th>\n",
       "      <th>A prime</th>\n",
       "      <th>B sum</th>\n",
       "    </tr>\n",
       "  </thead>\n",
       "  <tbody>\n",
       "    <tr>\n",
       "      <th>0</th>\n",
       "      <td>December 2</td>\n",
       "      <td>6</td>\n",
       "    </tr>\n",
       "    <tr>\n",
       "      <th>1</th>\n",
       "      <td>January 2</td>\n",
       "      <td>21</td>\n",
       "    </tr>\n",
       "    <tr>\n",
       "      <th>2</th>\n",
       "      <td>January 4</td>\n",
       "      <td>1</td>\n",
       "    </tr>\n",
       "    <tr>\n",
       "      <th>3</th>\n",
       "      <td>July 2</td>\n",
       "      <td>4</td>\n",
       "    </tr>\n",
       "    <tr>\n",
       "      <th>4</th>\n",
       "      <td>March 4</td>\n",
       "      <td>10</td>\n",
       "    </tr>\n",
       "    <tr>\n",
       "      <th>5</th>\n",
       "      <td>May 2</td>\n",
       "      <td>8</td>\n",
       "    </tr>\n",
       "    <tr>\n",
       "      <th>6</th>\n",
       "      <td>November 2</td>\n",
       "      <td>2</td>\n",
       "    </tr>\n",
       "    <tr>\n",
       "      <th>7</th>\n",
       "      <td>September 3</td>\n",
       "      <td>3</td>\n",
       "    </tr>\n",
       "  </tbody>\n",
       "</table></div>"
      ],
      "text/plain": [
       "       A prime  B sum\n",
       "0   December 2      6\n",
       "1    January 2     21\n",
       "2    January 4      1\n",
       "3       July 2      4\n",
       "4      March 4     10\n",
       "5        May 2      8\n",
       "6   November 2      2\n",
       "7  September 3      3"
      ]
     },
     "execution_count": 131,
     "metadata": {},
     "output_type": "execute_result"
    }
   ],
   "source": [
    "tmp_df = df[['A', 'B']]\n",
    "\n",
    "tmp_df['A prime'] = df['A'].dt.month_name()\n",
    "tmp_df['A prime 1'] = pd.Categorical(\n",
    "    tmp_df['A prime'], \n",
    "    categories=['January', 'February', 'March', 'April', 'May', 'June', 'July', 'August', 'September', 'October', 'November', 'December'], \n",
    "    ordered=True)\n",
    "\n",
    "tmp_df['A prime 2'] = df['A'].dt.day.astype(str)\n",
    "tmp_df['A prime'] = tmp_df['A prime'].astype(str) + ' ' + df['A'].dt.day.astype(str)\n",
    "\n",
    "tmp_df = tmp_df.sort_values(['A prime 1', 'A prime 2'], ascending = [True, True])\n",
    "\n",
    "pivot_table = tmp_df.pivot_table(\n",
    "    index=['A prime'],\n",
    "    values=['B'],\n",
    "    aggfunc={'B': ['sum']},\n",
    ")\n",
    "pivot_table.set_axis([flatten_column_header(col) for col in pivot_table.keys()], axis=1, inplace=True)\n",
    "df_pivot = pivot_table.reset_index()\n",
    "df_pivot"
   ]
  },
  {
   "cell_type": "code",
   "execution_count": 237,
   "id": "9961c168-9cf4-40be-9dc6-9c7e1e44c997",
   "metadata": {},
   "outputs": [],
   "source": [
    "df = pd.DataFrame({'A': ['1/4/25 00:05:02','1/4/25 00:01:03','9/3/22','7/2/2020','1/2/22 00:05:22', '12/2/22', '1/2/22 10:12:13', '5/2/22', '1/2/22', '3/4/24'], 'B': [100,100,2,2,2,2,9,8,9,10]})\n",
    "df['A'] = pd.to_datetime(df['A'], infer_datetime_format=True, errors='coerce')"
   ]
  },
  {
   "cell_type": "code",
   "execution_count": 264,
   "id": "80968b8b-bd09-400a-a5b4-93ccfb7ed0ca",
   "metadata": {},
   "outputs": [
    {
     "data": {
      "text/html": [
       "<div><div id=6c0f4cf5-f192-4d00-9ae6-7c7f287e0cd9 style=\"display:none; background-color:#9D6CFF; color:white; width:200px; height:30px; padding-left:5px; border-radius:4px; flex-direction:row; justify-content:space-around; align-items:center;\" onmouseover=\"this.style.backgroundColor='#BA9BF8'\" onmouseout=\"this.style.backgroundColor='#9D6CFF'\" onclick=\"window.commands?.execute('create-mitosheet-from-dataframe-output');\">See Full Dataframe in Mito</div> <script> if (window.commands?.hasCommand('create-mitosheet-from-dataframe-output')) document.getElementById('6c0f4cf5-f192-4d00-9ae6-7c7f287e0cd9').style.display = 'flex' </script> <table border=\"1\" class=\"dataframe\">\n",
       "  <thead>\n",
       "    <tr style=\"text-align: right;\">\n",
       "      <th></th>\n",
       "      <th>A prime</th>\n",
       "      <th>B sum</th>\n",
       "    </tr>\n",
       "  </thead>\n",
       "  <tbody>\n",
       "    <tr>\n",
       "      <th>0</th>\n",
       "      <td>1</td>\n",
       "      <td>230</td>\n",
       "    </tr>\n",
       "    <tr>\n",
       "      <th>1</th>\n",
       "      <td>2</td>\n",
       "      <td>8</td>\n",
       "    </tr>\n",
       "    <tr>\n",
       "      <th>2</th>\n",
       "      <td>3</td>\n",
       "      <td>4</td>\n",
       "    </tr>\n",
       "    <tr>\n",
       "      <th>3</th>\n",
       "      <td>4</td>\n",
       "      <td>2</td>\n",
       "    </tr>\n",
       "  </tbody>\n",
       "</table></div>"
      ],
      "text/plain": [
       "   A prime  B sum\n",
       "0        1    230\n",
       "1        2      8\n",
       "2        3      4\n",
       "3        4      2"
      ]
     },
     "execution_count": 264,
     "metadata": {},
     "output_type": "execute_result"
    }
   ],
   "source": [
    "tmp_df = df[['A', 'B']]\n",
    "\n",
    "tmp_df['A prime'] = tmp_df['A'].dt.quarter\n",
    "\n",
    "pivot_table = tmp_df.pivot_table(\n",
    "    index=['A prime'],\n",
    "    values=['B'],\n",
    "    aggfunc={'B': ['sum']},\n",
    ")\n",
    "pivot_table.set_axis([flatten_column_header(col) for col in pivot_table.keys()], axis=1, inplace=True)\n",
    "df_pivot = pivot_table.reset_index()\n",
    "df_pivot\n"
   ]
  },
  {
   "cell_type": "code",
   "execution_count": 246,
   "id": "7d267744-0d4a-4214-a0f4-55794635ba04",
   "metadata": {},
   "outputs": [
    {
     "data": {
      "application/vnd.jupyter.widget-view+json": {
       "model_id": "5b431d7f615e4a1f93e1579ea53081d3",
       "version_major": 2,
       "version_minor": 0
      },
      "text/plain": [
       "MitoWidget(analysis_data_json='{\"analysisName\": \"id-elxiirryla\", \"analysisToReplay\": null, \"code\": [], \"stepSu…"
      ]
     },
     "execution_count": 246,
     "metadata": {},
     "output_type": "execute_result"
    }
   ],
   "source": [
    "import mitosheet\n",
    "mitosheet.sheet(df_pivot, analysis_to_replay=\"id-elxiirryla\")"
   ]
  },
  {
   "cell_type": "code",
   "execution_count": null,
   "id": "a0cf22c3-792b-4180-acdc-6d25d2b947c2",
   "metadata": {},
   "outputs": [],
   "source": [
    "from mitosheet import *; register_analysis(\"id-elxiirryla\");\n",
    "    \n",
    "# Renamed columns A prime (day of week)\n",
    "df_pivot.rename(columns={'A prime': 'A prime (day of week)'}, inplace=True)\n",
    "\n",
    "# Added column new-column-ifpt\n",
    "df_pivot.insert(1, 'new-column-ifpt', 0)\n",
    "\n",
    "# Set formula of new-column-ifpt\n",
    "df_pivot['new-column-ifpt'] = df_pivot['A prime (day of week)']\n",
    "\n",
    "# Added column new-column-wwtr\n",
    "df_pivot.insert(2, 'new-column-wwtr', 0)\n",
    "\n",
    "# Set formula of new-column-wwtr\n",
    "df_pivot['new-column-wwtr'] = df_pivot['new-column-ifpt']\n",
    "\n",
    "# Pivoted into df_pivot\n",
    "tmp_df = df_pivot[['new-column-wwtr', 'A prime (day of week)']]\n",
    "pivot_table = tmp_df.pivot_table(\n",
    "    index=['A prime (day of week)'],\n",
    "    values=['new-column-wwtr'],\n",
    "    aggfunc={'new-column-wwtr': ['count']}\n",
    ")\n",
    "pivot_table.set_axis([flatten_column_header(col) for col in pivot_table.keys()], axis=1, inplace=True)\n",
    "df_pivot_pivot = pivot_table.reset_index()\n",
    "\n",
    "# Added column new-column-wlpz\n",
    "df_pivot.insert(4, 'new-column-wlpz', 0)\n",
    "\n",
    "# Set formula of new-column-wlpz\n",
    "df_pivot['new-column-wlpz'] = df_pivot['B sum']\n",
    "\n",
    "# Renamed columns A\n",
    "df_pivot.rename(columns={'new-column-wlpz': 'A'}, inplace=True)\n",
    "\n",
    "# Formatted dataframes. Print these styling objects to see the formatted dataframe\n",
    "df_pivot_pivot_styler = df_pivot_pivot.style\\\n",
    "    .format(\"{:E}\", subset=['new-column-wwtr count'])\n"
   ]
  },
  {
   "cell_type": "code",
   "execution_count": 140,
   "id": "f8484a41-0dc8-482d-bbc3-1a789217c8b7",
   "metadata": {},
   "outputs": [
    {
     "data": {
      "text/html": [
       "<div><div id=24aaa2ac-023a-48ab-b3a7-f8757e83ab62 style=\"display:none; background-color:#9D6CFF; color:white; width:200px; height:30px; padding-left:5px; border-radius:4px; flex-direction:row; justify-content:space-around; align-items:center;\" onmouseover=\"this.style.backgroundColor='#BA9BF8'\" onmouseout=\"this.style.backgroundColor='#9D6CFF'\" onclick=\"window.commands?.execute('create-mitosheet-from-dataframe-output');\">See Full Dataframe in Mito</div> <script> if (window.commands?.hasCommand('create-mitosheet-from-dataframe-output')) document.getElementById('24aaa2ac-023a-48ab-b3a7-f8757e83ab62').style.display = 'flex' </script> <table border=\"1\" class=\"dataframe\">\n",
       "  <thead>\n",
       "    <tr style=\"text-align: right;\">\n",
       "      <th></th>\n",
       "      <th>A prime</th>\n",
       "      <th>B sum</th>\n",
       "    </tr>\n",
       "  </thead>\n",
       "  <tbody>\n",
       "    <tr>\n",
       "      <th>0</th>\n",
       "      <td>2</td>\n",
       "      <td>41</td>\n",
       "    </tr>\n",
       "    <tr>\n",
       "      <th>1</th>\n",
       "      <td>3</td>\n",
       "      <td>3</td>\n",
       "    </tr>\n",
       "    <tr>\n",
       "      <th>2</th>\n",
       "      <td>4</td>\n",
       "      <td>11</td>\n",
       "    </tr>\n",
       "  </tbody>\n",
       "</table></div>"
      ],
      "text/plain": [
       "   A prime  B sum\n",
       "0        2     41\n",
       "1        3      3\n",
       "2        4     11"
      ]
     },
     "execution_count": 140,
     "metadata": {},
     "output_type": "execute_result"
    }
   ],
   "source": [
    "df_pivot"
   ]
  },
  {
   "cell_type": "code",
   "execution_count": null,
   "id": "f8c878ed-7cab-420e-8b79-64775c5dd1a4",
   "metadata": {},
   "outputs": [],
   "source": [
    "\\')'"
   ]
  },
  {
   "cell_type": "code",
   "execution_count": null,
   "id": "fe980ea4-7c1e-42c5-89d4-a48e255e0eba",
   "metadata": {},
   "outputs": [],
   "source": []
  },
  {
   "cell_type": "code",
   "execution_count": null,
   "id": "6afd41f0-e36f-426d-b7f7-e2d90ec3273f",
   "metadata": {},
   "outputs": [],
   "source": []
  },
  {
   "cell_type": "code",
   "execution_count": null,
   "id": "fae090a4-27cf-446f-aafc-3ef5fa7569c1",
   "metadata": {},
   "outputs": [],
   "source": []
  },
  {
   "cell_type": "code",
   "execution_count": null,
   "id": "d9a43630-bde7-4b2a-a89d-be3a7a901d76",
   "metadata": {},
   "outputs": [],
   "source": []
  },
  {
   "cell_type": "code",
   "execution_count": 296,
   "id": "b4e0cba9-8c82-4cc1-8e2f-b42efe5bf108",
   "metadata": {},
   "outputs": [
    {
     "data": {
      "text/html": [
       "<div><div id=5f8297bd-fd74-47a3-a001-96c5dce1f34c style=\"display:none; background-color:#9D6CFF; color:white; width:200px; height:30px; padding-left:5px; border-radius:4px; flex-direction:row; justify-content:space-around; align-items:center;\" onmouseover=\"this.style.backgroundColor='#BA9BF8'\" onmouseout=\"this.style.backgroundColor='#9D6CFF'\" onclick=\"window.commands?.execute('create-mitosheet-from-dataframe-output');\">See Full Dataframe in Mito</div> <script> if (window.commands?.hasCommand('create-mitosheet-from-dataframe-output')) document.getElementById('5f8297bd-fd74-47a3-a001-96c5dce1f34c').style.display = 'flex' </script> <table border=\"1\" class=\"dataframe\">\n",
       "  <thead>\n",
       "    <tr style=\"text-align: right;\">\n",
       "      <th></th>\n",
       "      <th>A</th>\n",
       "      <th>B</th>\n",
       "      <th>C</th>\n",
       "    </tr>\n",
       "  </thead>\n",
       "  <tbody>\n",
       "    <tr>\n",
       "      <th>0</th>\n",
       "      <td>2025-01-04 00:00:00</td>\n",
       "      <td>2025-01-04 00:00:00</td>\n",
       "      <td>1</td>\n",
       "    </tr>\n",
       "    <tr>\n",
       "      <th>1</th>\n",
       "      <td>2022-11-02 00:00:00</td>\n",
       "      <td>2022-11-02 00:00:00</td>\n",
       "      <td>2</td>\n",
       "    </tr>\n",
       "    <tr>\n",
       "      <th>2</th>\n",
       "      <td>2022-09-03 00:00:00</td>\n",
       "      <td>2022-09-03 00:00:00</td>\n",
       "      <td>3</td>\n",
       "    </tr>\n",
       "    <tr>\n",
       "      <th>3</th>\n",
       "      <td>2020-07-02 00:00:00</td>\n",
       "      <td>2020-07-02 00:00:00</td>\n",
       "      <td>4</td>\n",
       "    </tr>\n",
       "    <tr>\n",
       "      <th>4</th>\n",
       "      <td>2022-01-02 00:05:22</td>\n",
       "      <td>2022-01-02 00:05:22</td>\n",
       "      <td>5</td>\n",
       "    </tr>\n",
       "    <tr>\n",
       "      <th>5</th>\n",
       "      <td>2022-12-02 00:00:00</td>\n",
       "      <td>2022-12-02 00:00:00</td>\n",
       "      <td>6</td>\n",
       "    </tr>\n",
       "    <tr>\n",
       "      <th>6</th>\n",
       "      <td>2022-01-02 10:12:13</td>\n",
       "      <td>2022-01-02 10:12:13</td>\n",
       "      <td>7</td>\n",
       "    </tr>\n",
       "    <tr>\n",
       "      <th>7</th>\n",
       "      <td>2022-05-02 00:00:00</td>\n",
       "      <td>2022-05-02 00:00:00</td>\n",
       "      <td>8</td>\n",
       "    </tr>\n",
       "    <tr>\n",
       "      <th>8</th>\n",
       "      <td>2022-01-02 00:00:00</td>\n",
       "      <td>2022-01-02 00:00:00</td>\n",
       "      <td>9</td>\n",
       "    </tr>\n",
       "    <tr>\n",
       "      <th>9</th>\n",
       "      <td>2024-03-04 00:00:00</td>\n",
       "      <td>2024-03-04 00:00:00</td>\n",
       "      <td>10</td>\n",
       "    </tr>\n",
       "  </tbody>\n",
       "</table></div>"
      ],
      "text/plain": [
       "                    A                   B   C\n",
       "0 2025-01-04 00:00:00 2025-01-04 00:00:00   1\n",
       "1 2022-11-02 00:00:00 2022-11-02 00:00:00   2\n",
       "2 2022-09-03 00:00:00 2022-09-03 00:00:00   3\n",
       "3 2020-07-02 00:00:00 2020-07-02 00:00:00   4\n",
       "4 2022-01-02 00:05:22 2022-01-02 00:05:22   5\n",
       "5 2022-12-02 00:00:00 2022-12-02 00:00:00   6\n",
       "6 2022-01-02 10:12:13 2022-01-02 10:12:13   7\n",
       "7 2022-05-02 00:00:00 2022-05-02 00:00:00   8\n",
       "8 2022-01-02 00:00:00 2022-01-02 00:00:00   9\n",
       "9 2024-03-04 00:00:00 2024-03-04 00:00:00  10"
      ]
     },
     "execution_count": 296,
     "metadata": {},
     "output_type": "execute_result"
    }
   ],
   "source": [
    "df = pd.DataFrame({\n",
    "    'A': ['1/4/25','11/2/22','9/3/22','7/2/2020','1/2/22 00:05:22', '12/2/22', '1/2/22 10:12:13', '5/2/22', '1/2/22', '3/4/24'], \n",
    "    'B': ['1/4/25','11/2/22','9/3/22','7/2/2020','1/2/22 00:05:22', '12/2/22', '1/2/22 10:12:13', '5/2/22', '1/2/22', '3/4/24'],\n",
    "    'C': [1,2,3,4,5,6,7,8,9,10]\n",
    "})\n",
    "df[['A', 'B']] = df[['A', 'B']].apply(pd.to_datetime, infer_datetime_format=True, errors='coerce')\n",
    "df"
   ]
  },
  {
   "cell_type": "code",
   "execution_count": null,
   "id": "05c961c8-fd02-4c40-9f1c-43aa001cb6c8",
   "metadata": {},
   "outputs": [],
   "source": []
  }
 ],
 "metadata": {
  "kernelspec": {
   "display_name": "Python 3 (ipykernel)",
   "language": "python",
   "name": "python3"
  },
  "language_info": {
   "codemirror_mode": {
    "name": "ipython",
    "version": 3
   },
   "file_extension": ".py",
   "mimetype": "text/x-python",
   "name": "python",
   "nbconvert_exporter": "python",
   "pygments_lexer": "ipython3",
   "version": "3.10.0"
  }
 },
 "nbformat": 4,
 "nbformat_minor": 5
}
